{
 "cells": [
  {
   "cell_type": "code",
   "execution_count": null,
   "id": "a04fafa8-88cb-4e36-ba54-db71723072ee",
   "metadata": {},
   "outputs": [],
   "source": [
    "import pydeck as pdk"
   ]
  },
  {
   "cell_type": "code",
   "execution_count": null,
   "id": "a10ddd37-4fa7-4beb-b847-e53044061622",
   "metadata": {},
   "outputs": [],
   "source": [
    "l = pdk.Layer(\n",
    "    type='TileLayer',\n",
    "    id='myTile',\n",
    "    # data='https://tileserver.memomaps.de/tilegen/{z}/{x}/{y}.png',\n",
    "    data='http://tiles.openseamap.org/seamark/{z}/{x}/{y}.png',\n",
    ")"
   ]
  },
  {
   "cell_type": "code",
   "execution_count": null,
   "id": "59b608bc-8b78-4192-9bf0-d6f9d69350d0",
   "metadata": {},
   "outputs": [],
   "source": [
    "# url = 'https://tigerweb.geo.census.gov/arcgis/services/TIGERweb/tigerWMS_Current/MapServer/WMSServer?request=GetCapabilities&service=WMS'\n",
    "# url = 'https://tigerweb.geo.census.gov/arcgis/services/TIGERweb/tigerWMS_Current/MapServer/WMSServer'\n",
    "# url = 'https://basemaps.cartocdn.com/gl/positron-nolabels-gl-style/style.json'\n",
    "# url = 'https://raw.githubusercontent.com/heshan0131/kepler.gl-data/master/style/basic.json'\n",
    "\n",
    "        \n",
    "m = pdk.Deck(\n",
    "    #layers=[],#polygon_layer],\n",
    "    #initial_view_state=view_state,\n",
    "    # effects=[lighting_effect],\n",
    "    # api_keys={'google_maps': GOOGLE_MAPS_API_KEY},\n",
    "    # map_provider='google_maps',\n",
    "    # map_style='road',\n",
    "    # api_keys={'mapbox': MAPBOX_API_KEY},\n",
    "    # map_provider='mapbox',\n",
    "    # map_style='road', #pdk.map_styles.LIGHT,\n",
    "    # map_provider=None,#'osm',\n",
    "    layers=l,\n",
    "    # map_style=url,\n",
    "    # tooltip=tooltip,\n",
    ")\n",
    "\n",
    "m"
   ]
  },
  {
   "cell_type": "code",
   "execution_count": null,
   "id": "d84e2597-ba55-4a55-bca0-6a9180724182",
   "metadata": {},
   "outputs": [],
   "source": []
  }
 ],
 "metadata": {
  "kernelspec": {
   "display_name": "Python 3 (ipykernel)",
   "language": "python",
   "name": "python3"
  },
  "language_info": {
   "codemirror_mode": {
    "name": "ipython",
    "version": 3
   },
   "file_extension": ".py",
   "mimetype": "text/x-python",
   "name": "python",
   "nbconvert_exporter": "python",
   "pygments_lexer": "ipython3",
   "version": "3.9.10"
  }
 },
 "nbformat": 4,
 "nbformat_minor": 5
}
