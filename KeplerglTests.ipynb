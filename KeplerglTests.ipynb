{
 "cells": [
  {
   "cell_type": "code",
   "execution_count": null,
   "id": "7f5cf7af-06e9-479c-95c3-25f7d283d81f",
   "metadata": {},
   "outputs": [],
   "source": [
    "import keplergl as kpl\n",
    "import requests\n",
    "import json"
   ]
  },
  {
   "cell_type": "code",
   "execution_count": null,
   "id": "68fd556b-092e-4a1e-bdb5-5d3a4fcac409",
   "metadata": {},
   "outputs": [],
   "source": [
    "# serve up, locally (with CORS-based header) dir with style kepler will read in\n",
    "# execute in another terminal, as it will run \"forever\" (and should until done with kepler)\n",
    "# python my_simple_server.py"
   ]
  },
  {
   "cell_type": "code",
   "execution_count": null,
   "id": "a871e0b9-6ab3-4312-b7f2-0fa9a883fb51",
   "metadata": {},
   "outputs": [],
   "source": [
    "# url = 'http://localhost:8000/basic_nj.json' # WMS with GetMap\n",
    "url = 'http://localhost:8000/basic_sea.json' # WMS with xyz\n",
    "res = requests.get(url)\n",
    "assert res.status_code == 200"
   ]
  },
  {
   "cell_type": "code",
   "execution_count": null,
   "id": "09aeaac1-57da-4663-a07b-f4476464d393",
   "metadata": {},
   "outputs": [],
   "source": [
    "assert 'Access-Control-Allow-Origin' in res.headers"
   ]
  },
  {
   "cell_type": "code",
   "execution_count": null,
   "id": "92074654-9811-4f06-8250-6f2c9fc9f5ac",
   "metadata": {},
   "outputs": [],
   "source": [
    "print(res.text)"
   ]
  },
  {
   "cell_type": "code",
   "execution_count": null,
   "id": "6cdd78fb-e169-4e45-93c6-25691b97c0ee",
   "metadata": {},
   "outputs": [],
   "source": [
    "# simplest option is to pass the url in 'url' var above to the map produced below\n",
    "# other option is pass similar formatted 'mapStyles' var below to a full config prior to loading the map"
   ]
  },
  {
   "cell_type": "code",
   "execution_count": null,
   "id": "d7f32f09-f0b6-4557-9235-4e4e6fea1b7d",
   "metadata": {},
   "outputs": [],
   "source": [
    "res_json = json.loads(res.text)\n",
    "res_json"
   ]
  },
  {
   "cell_type": "code",
   "execution_count": null,
   "id": "79cda2b2-30f9-47af-b377-c838056e6ee7",
   "metadata": {},
   "outputs": [],
   "source": [
    "uuid = 'abcdef'\n",
    "mapStyles = {\n",
    "   uuid: {\n",
    "       'accessToken': None,\n",
    "       'custom': True,\n",
    "       'icon': 'N/A', #'https://api.mapbox.com/styles/v1/http://localhost:8000/basic_nj.json/static/-122.3391,37.7922,9,0,0/400x300?access_token=pk.eyJ1IjoidWNmLW1hcGJveCIsImEiOiJja3RpeXhkaXcxNzJtMnZxbmtkcnJuM3BkIn0.kGmGlkbuWaCBf7_RrZXULg&logo=false&attribution=false',\n",
    "       'id': uuid,\n",
    "       'label': res_json['name'], #'WMS Style - NJ',\n",
    "       'url': url, #'http://localhost:8000/basic_nj.json',\n",
    "   }\n",
    "}\n",
    "mapStyles"
   ]
  },
  {
   "cell_type": "code",
   "execution_count": null,
   "id": "051055ea-5d3b-4001-a9d2-c0b43b8c9a67",
   "metadata": {},
   "outputs": [],
   "source": [
    "c = {\n",
    "'version': 'v1',\n",
    " 'config': {'visState': {'filters': [],\n",
    "   'layers': [],\n",
    "   'interactionConfig': {'tooltip': {'fieldsToShow': {},\n",
    "     'compareMode': False,\n",
    "     'compareType': 'absolute',\n",
    "     'enabled': True},\n",
    "    'brush': {'size': 0.5, 'enabled': False},\n",
    "    'geocoder': {'enabled': False},\n",
    "    'coordinate': {'enabled': False}},\n",
    "   'layerBlending': 'normal',\n",
    "   'splitMaps': [],\n",
    "   'animationConfig': {'currentTime': None, 'speed': 1}},\n",
    "  'mapState': {'bearing': 0,\n",
    "   'dragRotate': False,\n",
    "   # # NJ\n",
    "   # 'latitude': 39.049609384311125,\n",
    "   # 'longitude': -75.6655837417198,\n",
    "   # 'zoom': 6,\n",
    "   # # San Fransisco area:\n",
    "   # 'latitude': 37.75043,\n",
    "   # 'longitude': -122.34679,\n",
    "   # 'zoom': 9,\n",
    "   # # SF - SEA\n",
    "   'latitude': 37.748486677624925,\n",
    "   'longitude': -122.97315078406189,\n",
    "   'zoom': 9.013540188231492,               \n",
    "   'pitch': 0,\n",
    "   'isSplit': False},\n",
    "  'mapStyle': {'styleType': uuid, #'dark',\n",
    "   'topLayerGroups': {},\n",
    "   'visibleLayerGroups': {\n",
    "    # 'label': True,\n",
    "    # 'road': True,\n",
    "    # 'border': False,\n",
    "    # 'building': True,\n",
    "    # 'water': True,\n",
    "    # 'land': True,\n",
    "    # '3d building': False,\n",
    "   },\n",
    "   'threeDBuildingColor': [9.665468314072013,\n",
    "    17.18305478057247,\n",
    "    31.1442867897876],\n",
    "   # 'mapStylesReplaceDefault': False,\n",
    "   'mapStyles': mapStyles}}\n",
    "}"
   ]
  },
  {
   "cell_type": "code",
   "execution_count": null,
   "id": "99af20c0-d7f6-48fd-871f-30fb04694f8a",
   "metadata": {},
   "outputs": [],
   "source": [
    "m = kpl.KeplerGl(height=850, config=c.copy())\n",
    "m"
   ]
  },
  {
   "cell_type": "code",
   "execution_count": null,
   "id": "9fc63e2b-9f8b-4a97-b989-994d1f217ed2",
   "metadata": {},
   "outputs": [],
   "source": [
    "m.save_to_html(file_name='kep_map.html')#data=m.data, config=m.config)"
   ]
  },
  {
   "cell_type": "code",
   "execution_count": null,
   "id": "8f494513-1651-4af6-898d-59a8b07c4842",
   "metadata": {},
   "outputs": [],
   "source": [
    "c = m.config.copy()\n",
    "c"
   ]
  },
  {
   "cell_type": "code",
   "execution_count": null,
   "id": "1d18df58-1c47-40c0-af53-48fcf237b360",
   "metadata": {},
   "outputs": [],
   "source": [
    "c['config']['mapStyle']"
   ]
  },
  {
   "cell_type": "code",
   "execution_count": null,
   "id": "1b949db4-833a-426b-a3e8-6de34f0ef6ee",
   "metadata": {},
   "outputs": [],
   "source": [
    "m.data"
   ]
  },
  {
   "cell_type": "code",
   "execution_count": null,
   "id": "e12a1586-ce96-4720-8dd5-81a4823247d8",
   "metadata": {},
   "outputs": [],
   "source": []
  }
 ],
 "metadata": {
  "kernelspec": {
   "display_name": "Python 3 (ipykernel)",
   "language": "python",
   "name": "python3"
  },
  "language_info": {
   "codemirror_mode": {
    "name": "ipython",
    "version": 3
   },
   "file_extension": ".py",
   "mimetype": "text/x-python",
   "name": "python",
   "nbconvert_exporter": "python",
   "pygments_lexer": "ipython3",
   "version": "3.9.10"
  }
 },
 "nbformat": 4,
 "nbformat_minor": 5
}
