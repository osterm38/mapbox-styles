{
 "cells": [
  {
   "cell_type": "code",
   "execution_count": null,
   "id": "7f5cf7af-06e9-479c-95c3-25f7d283d81f",
   "metadata": {},
   "outputs": [],
   "source": [
    "import keplergl as kpl"
   ]
  },
  {
   "cell_type": "code",
   "execution_count": null,
   "id": "99af20c0-d7f6-48fd-871f-30fb04694f8a",
   "metadata": {},
   "outputs": [],
   "source": [
    "m = kpl.KeplerGl(height=790)\n",
    "m"
   ]
  },
  {
   "cell_type": "code",
   "execution_count": null,
   "id": "9fc63e2b-9f8b-4a97-b989-994d1f217ed2",
   "metadata": {},
   "outputs": [],
   "source": [
    "m.save_to_html(file_name='kep_map2.html')#data=m.data, config=m.config)"
   ]
  },
  {
   "cell_type": "code",
   "execution_count": null,
   "id": "8f494513-1651-4af6-898d-59a8b07c4842",
   "metadata": {},
   "outputs": [],
   "source": [
    "c = m.config.copy()\n",
    "c"
   ]
  },
  {
   "cell_type": "code",
   "execution_count": null,
   "id": "1d18df58-1c47-40c0-af53-48fcf237b360",
   "metadata": {},
   "outputs": [],
   "source": [
    "c['config']['mapStyle']"
   ]
  },
  {
   "cell_type": "code",
   "execution_count": null,
   "id": "1b949db4-833a-426b-a3e8-6de34f0ef6ee",
   "metadata": {},
   "outputs": [],
   "source": []
  }
 ],
 "metadata": {
  "kernelspec": {
   "display_name": "Python 3 (ipykernel)",
   "language": "python",
   "name": "python3"
  },
  "language_info": {
   "codemirror_mode": {
    "name": "ipython",
    "version": 3
   },
   "file_extension": ".py",
   "mimetype": "text/x-python",
   "name": "python",
   "nbconvert_exporter": "python",
   "pygments_lexer": "ipython3",
   "version": "3.9.10"
  }
 },
 "nbformat": 4,
 "nbformat_minor": 5
}
