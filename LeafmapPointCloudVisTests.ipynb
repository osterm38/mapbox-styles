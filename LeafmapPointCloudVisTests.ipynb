{
 "cells": [
  {
   "cell_type": "code",
   "execution_count": null,
   "id": "ed6e8b60-d9fb-4479-be0b-23d89e05e019",
   "metadata": {},
   "outputs": [],
   "source": [
    "import pathlib\n",
    "import pandas as pd\n",
    "import pylas\n",
    "import leafmap.leafmap as leafmap"
   ]
  },
  {
   "cell_type": "code",
   "execution_count": null,
   "id": "6831cc70-2084-4b04-9e05-6bc605d6619a",
   "metadata": {},
   "outputs": [],
   "source": [
    "f_h5 = pathlib.Path.cwd() / 'lidar_pc.hdf5'\n",
    "print(f_h5)\n",
    "assert f_h5.is_file()"
   ]
  },
  {
   "cell_type": "code",
   "execution_count": null,
   "id": "5d92cc1f-9e64-406b-9d55-a2bddc7bc294",
   "metadata": {},
   "outputs": [],
   "source": [
    "df = pd.read_hdf(f_h5, 'e428')\n",
    "df"
   ]
  },
  {
   "cell_type": "code",
   "execution_count": null,
   "id": "0398934d-f63b-4a0a-8cad-ca8365193602",
   "metadata": {},
   "outputs": [],
   "source": [
    "times = sorted(df.t.unique())\n",
    "times"
   ]
  },
  {
   "cell_type": "code",
   "execution_count": null,
   "id": "324ab115-4269-4624-b5dd-774be26f6f02",
   "metadata": {},
   "outputs": [],
   "source": [
    "time_id = 12\n",
    "assert time_id in range(0, len(times))\n",
    "\n",
    "subdf = df[ df.t == times[time_id] ]\n",
    "subdf"
   ]
  },
  {
   "cell_type": "code",
   "execution_count": null,
   "id": "b8e0cedd-95a5-4b22-9c9c-e4b1363fd6c2",
   "metadata": {},
   "outputs": [],
   "source": [
    "f_las = pathlib.Path.cwd() / f'lidar_pc_time{time_id}.las'\n",
    "print(f_las)"
   ]
  },
  {
   "cell_type": "code",
   "execution_count": null,
   "id": "3305d955-5130-49a4-89bc-e57d43a004cc",
   "metadata": {},
   "outputs": [],
   "source": [
    "lid = pylas.create()\n",
    "\n",
    "lid.x = subdf.x.values\n",
    "lid.y = subdf.y.values\n",
    "lid.z = subdf.z.values\n",
    "\n",
    "lid"
   ]
  },
  {
   "cell_type": "code",
   "execution_count": null,
   "id": "44f94d33-a491-472b-a220-59fc20d29432",
   "metadata": {},
   "outputs": [],
   "source": [
    "lid.write(str(f_las))"
   ]
  },
  {
   "cell_type": "code",
   "execution_count": null,
   "id": "e8651f5d-9b8e-4537-addf-04744bc57c34",
   "metadata": {},
   "outputs": [],
   "source": [
    "las = leafmap.read_lidar(f_las)\n",
    "las"
   ]
  },
  {
   "cell_type": "code",
   "execution_count": null,
   "id": "70adcc62-61fd-4c38-9e1c-3b1945b65707",
   "metadata": {},
   "outputs": [],
   "source": [
    "las.header"
   ]
  },
  {
   "cell_type": "code",
   "execution_count": null,
   "id": "89303469-3286-4b00-8bcb-9139354ae00c",
   "metadata": {},
   "outputs": [],
   "source": [
    "las.point_format"
   ]
  },
  {
   "cell_type": "code",
   "execution_count": null,
   "id": "ce13b56a-cd8f-4f66-99c1-296ce1ba6384",
   "metadata": {},
   "outputs": [],
   "source": [
    "las.points"
   ]
  },
  {
   "cell_type": "code",
   "execution_count": null,
   "id": "c787058f-4051-4a67-adeb-27a6c64162d7",
   "metadata": {},
   "outputs": [],
   "source": [
    "las.header.point_count"
   ]
  },
  {
   "cell_type": "code",
   "execution_count": null,
   "id": "a302a4df-6f2a-4a08-bcdb-bc1c1ca0c693",
   "metadata": {},
   "outputs": [],
   "source": [
    "las.xyz.shape"
   ]
  },
  {
   "cell_type": "code",
   "execution_count": null,
   "id": "11983a02-bdf8-49ac-8b4e-68b45c0edaf0",
   "metadata": {},
   "outputs": [],
   "source": [
    "leafmap.view_lidar(f_las, backend='ipygany', background=[250, 240, 250])"
   ]
  },
  {
   "cell_type": "code",
   "execution_count": null,
   "id": "84a7a3b5-3f8f-4169-adb7-1add969167aa",
   "metadata": {},
   "outputs": [],
   "source": [
    "import keplergl as kgl"
   ]
  },
  {
   "cell_type": "code",
   "execution_count": null,
   "id": "435d1e21-8e0a-4f1b-b85a-8e553a6431d9",
   "metadata": {},
   "outputs": [],
   "source": [
    "m = kgl.KeplerGl(height=790, data={'point_cloud': subdf})\n",
    "m"
   ]
  },
  {
   "cell_type": "code",
   "execution_count": null,
   "id": "b06f7a2a-76e3-44ec-a792-0d6731cdf3d6",
   "metadata": {},
   "outputs": [],
   "source": []
  }
 ],
 "metadata": {
  "kernelspec": {
   "display_name": "Python 3 (ipykernel)",
   "language": "python",
   "name": "python3"
  },
  "language_info": {
   "codemirror_mode": {
    "name": "ipython",
    "version": 3
   },
   "file_extension": ".py",
   "mimetype": "text/x-python",
   "name": "python",
   "nbconvert_exporter": "python",
   "pygments_lexer": "ipython3",
   "version": "3.9.10"
  }
 },
 "nbformat": 4,
 "nbformat_minor": 5
}
