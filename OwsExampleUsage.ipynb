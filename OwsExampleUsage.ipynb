{
 "cells": [
  {
   "cell_type": "code",
   "execution_count": null,
   "id": "6103eca3-f7ca-47e8-b990-8e3294f352b5",
   "metadata": {},
   "outputs": [],
   "source": [
    "import folium\n",
    "from owslib.wms import WebMapService\n",
    "from owslib.wmts import WebMapTileService"
   ]
  },
  {
   "cell_type": "markdown",
   "id": "c52eadcc-d370-4fc0-9af0-341b76509a68",
   "metadata": {},
   "source": [
    "# WMS example"
   ]
  },
  {
   "cell_type": "code",
   "execution_count": null,
   "id": "7e439543-5c0a-4f72-8c53-0c8248047a97",
   "metadata": {},
   "outputs": [],
   "source": [
    "# issue with proxy/vpn, so do without\n",
    "# wms = WebMapService('https://neo.gsfc.nasa.gov/wms/wms', version='1.1.1') # doesn't seem to work with folium?\n",
    "# wms = WebMapService('https://img.nj.gov/imagerywms/Natural2015', version='1.1.1') # this works!\n",
    "# can we swap WMS and WMTS?\n",
    "wms = WebMapTileService('https://maps.nj.gov/arcgis/rest/services/Basemap/Orthos_Natural_2015_NJ/MapServer/WMTS', version='1.0.0')"
   ]
  },
  {
   "cell_type": "code",
   "execution_count": null,
   "id": "42c51b50-2372-4d62-b2a1-1c8fa7bf506d",
   "metadata": {},
   "outputs": [],
   "source": [
    "wms.url"
   ]
  },
  {
   "cell_type": "code",
   "execution_count": null,
   "id": "7b5199a8-67a1-41ca-94bf-7c2a8b7ac5a1",
   "metadata": {},
   "outputs": [],
   "source": [
    "wms.identification.type"
   ]
  },
  {
   "cell_type": "code",
   "execution_count": null,
   "id": "4c6cc2ad-8536-4f44-824d-33acfc3dd82b",
   "metadata": {},
   "outputs": [],
   "source": [
    "wms.identification.version"
   ]
  },
  {
   "cell_type": "code",
   "execution_count": null,
   "id": "fd3d31e0-704f-46b2-8789-95e43af4381c",
   "metadata": {},
   "outputs": [],
   "source": [
    "wms.identification.title"
   ]
  },
  {
   "cell_type": "code",
   "execution_count": null,
   "id": "51c9bf2f-4528-4e13-aff0-019136ec48ca",
   "metadata": {},
   "outputs": [],
   "source": [
    "wms.identification.abstract"
   ]
  },
  {
   "cell_type": "code",
   "execution_count": null,
   "id": "16732909-7255-4cb1-b01c-b9a0a82bd4c3",
   "metadata": {},
   "outputs": [],
   "source": [
    "layer_ids = sorted(wms.contents)\n",
    "len(layer_ids)"
   ]
  },
  {
   "cell_type": "code",
   "execution_count": null,
   "id": "e4ed49d6-51fa-43dc-873f-7e5f3d8ce283",
   "metadata": {},
   "outputs": [],
   "source": [
    "layer_id = layer_ids[0]\n",
    "layer_id"
   ]
  },
  {
   "cell_type": "code",
   "execution_count": null,
   "id": "8efa9305-aab3-47f3-930d-0d9ed9928a05",
   "metadata": {},
   "outputs": [],
   "source": [
    "layer = wms.contents[layer_id]"
   ]
  },
  {
   "cell_type": "code",
   "execution_count": null,
   "id": "e4198470-4dcb-4270-9e4e-c6808be79e8c",
   "metadata": {},
   "outputs": [],
   "source": [
    "layer.styles"
   ]
  },
  {
   "cell_type": "code",
   "execution_count": null,
   "id": "1f9fdb5d-cc21-4f3a-97b1-f90dc06d39e9",
   "metadata": {},
   "outputs": [],
   "source": [
    "# not in WMTS!\n",
    "layer.crsOptions"
   ]
  },
  {
   "cell_type": "code",
   "execution_count": null,
   "id": "44a3853d-26b2-462a-be05-c59f0954cd24",
   "metadata": {},
   "outputs": [],
   "source": [
    "layer.title"
   ]
  },
  {
   "cell_type": "code",
   "execution_count": null,
   "id": "64783a7e-b544-478e-9629-abc2de7dd5c9",
   "metadata": {},
   "outputs": [],
   "source": [
    "# appears to be list of BoundingBox objects for WMTS vice 5-tuple for WMS\n",
    "layer.boundingBox"
   ]
  },
  {
   "cell_type": "code",
   "execution_count": null,
   "id": "44128ef4-d5df-4afd-9589-000cf97bfc1b",
   "metadata": {},
   "outputs": [],
   "source": [
    "sorted(layer.styles.keys())[0:1]"
   ]
  },
  {
   "cell_type": "code",
   "execution_count": null,
   "id": "1c12f559-eda4-43d6-9817-678d8f929e49",
   "metadata": {},
   "outputs": [],
   "source": [
    "# for WMS\n",
    "mp = wms.getmap(\n",
    "    layers=[layer_id],\n",
    "    # styles=sorted(layer.styles.keys())[0:1],#[layer.styles['rgb']],\n",
    "    srs=layer.boundingBox[-1], #layer.crsOptions[0],\n",
    "    bbox=layer.boundingBox[:-1], #(-70.8, 42, -70, 42.8),\n",
    "    format='image/png',\n",
    "    size=(256, 256),\n",
    "    time=None,\n",
    "    transparent=True,\n",
    ")"
   ]
  },
  {
   "cell_type": "code",
   "execution_count": null,
   "id": "b08184c7-552a-49f7-8b3f-d555ccfc5c32",
   "metadata": {},
   "outputs": [],
   "source": [
    "# for WMTS; not quite working (for just nj???)?\n",
    "mp = wms.gettile(\n",
    "    layer=layer_id,\n",
    "    style=sorted(layer.styles.keys())[0:1],\n",
    "    format='image/png',\n",
    "    tilematrixset='default028mm',\n",
    "    tilematrix='0',\n",
    "    row=0,\n",
    "    column=0,\n",
    ")"
   ]
  },
  {
   "cell_type": "code",
   "execution_count": null,
   "id": "74263351-790b-486a-bf35-502c225ab29a",
   "metadata": {},
   "outputs": [],
   "source": [
    "mp.geturl()"
   ]
  },
  {
   "cell_type": "code",
   "execution_count": null,
   "id": "37eeb32a-bc55-48dc-84d9-2e8578bdc5b0",
   "metadata": {},
   "outputs": [],
   "source": [
    "mp.info()"
   ]
  },
  {
   "cell_type": "code",
   "execution_count": null,
   "id": "055a031b-2271-4cc1-98be-f04702031f69",
   "metadata": {},
   "outputs": [],
   "source": [
    "with open('nasa.png', 'wb') as fh:\n",
    "    fh.write(mp.read())"
   ]
  },
  {
   "cell_type": "code",
   "execution_count": null,
   "id": "a40c3287-fc07-4911-997b-6e914990e452",
   "metadata": {},
   "outputs": [],
   "source": [
    "# Should be able to open png and see upside down? thumbnail of earth"
   ]
  },
  {
   "cell_type": "markdown",
   "id": "de505530-7126-4455-842c-e8e29ce2eef1",
   "metadata": {},
   "source": [
    "## Visualize using folium"
   ]
  },
  {
   "cell_type": "code",
   "execution_count": null,
   "id": "4dd35d41-68c9-4892-9d2b-ce81c0b4f038",
   "metadata": {},
   "outputs": [],
   "source": [
    "# example of folium map pulled from OSM, overlaid with rain fall/reflectivity?\n",
    "# dates include Hurricane Sandy's landfall in NJ, as well as same year's Derecho's in NJ\n",
    "m = folium.Map(\n",
    "    # tiles=None, # this still works, i.e., overlay below appears!\n",
    "    tiles='OpenStreetMap',\n",
    ")\n",
    "l = folium.WmsTileLayer(\n",
    "    url=wms.url,\n",
    "    layers=[layer_id],\n",
    "    # styles=sorted(layer.styles.keys())[0:1],#[layer.styles['rgb']],\n",
    "    #srs=layer.boundingBox[-1], #layer.crsOptions[0],\n",
    "    # bbox=layer.boundingBox[:-1], #(-70.8, 42, -70, 42.8),\n",
    "    fmt='image/png',\n",
    "    # size=(256, 256),\n",
    "    # time=None,\n",
    "    transparent=True,\n",
    "    # attr='NASA...',\n",
    ")\n",
    "l.add_to(m, 'nasa')\n",
    "m"
   ]
  },
  {
   "cell_type": "code",
   "execution_count": null,
   "id": "23b053e3-9e1d-47af-857f-d24d19b65b76",
   "metadata": {},
   "outputs": [],
   "source": [
    "m.save('folium.html')"
   ]
  }
 ],
 "metadata": {
  "kernelspec": {
   "display_name": "Python 3 (ipykernel)",
   "language": "python",
   "name": "python3"
  },
  "language_info": {
   "codemirror_mode": {
    "name": "ipython",
    "version": 3
   },
   "file_extension": ".py",
   "mimetype": "text/x-python",
   "name": "python",
   "nbconvert_exporter": "python",
   "pygments_lexer": "ipython3",
   "version": "3.9.10"
  }
 },
 "nbformat": 4,
 "nbformat_minor": 5
}
