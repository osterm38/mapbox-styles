{
 "cells": [
  {
   "cell_type": "code",
   "execution_count": null,
   "id": "99754a1b",
   "metadata": {},
   "outputs": [],
   "source": [
    "import unfolded.map_sdk as ums\n",
    "import pandas as pd\n",
    "import requests\n",
    "from uuid import uuid4"
   ]
  },
  {
   "cell_type": "code",
   "execution_count": null,
   "id": "647c8485-76ad-4bef-98ee-1cb551c66faa",
   "metadata": {},
   "outputs": [],
   "source": [
    "# url = 'http://localhost:8000/basic_sea.json' # yields an error stating we need https!?\n",
    "# url = 'https://raw.githubusercontent.com/osterm38/mapbox-styles/main/basic_sea.json' # doesn't load, perhaps WMS/WMST better handled elsewhere!?\n",
    "url = 'https://raw.githubusercontent.com/osterm38/mapbox-styles/main/basic_nj.json'"
   ]
  },
  {
   "cell_type": "code",
   "execution_count": null,
   "id": "c76bce28-7b00-4205-8f67-cd75c643bd28",
   "metadata": {},
   "outputs": [],
   "source": [
    "# For now, add https hosted url\n",
    "m = ums.UnfoldedMap()\n",
    "m"
   ]
  },
  {
   "cell_type": "code",
   "execution_count": null,
   "id": "37ebfcb5",
   "metadata": {},
   "outputs": [],
   "source": [
    "uuid = uuid4()\n",
    "csv_url = 'https://raw.githubusercontent.com/UnfoldedInc/examples/master/notebooks/data/earthquakes.csv'\n",
    "# should add to above map!\n",
    "m.add_dataset({\n",
    "    'uuid': uuid,\n",
    "    'label': 'Earthquakes dataset',\n",
    "    'data': pd.read_csv(csv_url)\n",
    "})"
   ]
  },
  {
   "cell_type": "code",
   "execution_count": null,
   "id": "0ab8deca",
   "metadata": {},
   "outputs": [],
   "source": [
    "m.remove_dataset(uuid)"
   ]
  },
  {
   "cell_type": "code",
   "execution_count": null,
   "id": "0e891430",
   "metadata": {},
   "outputs": [],
   "source": [
    "json_url = 'https://raw.githubusercontent.com/UnfoldedInc/examples/master/notebooks/data/nyc-census.json'\n",
    "r = requests.get(json_url)\n",
    "census_tracts_geojson = r.text\n",
    "m.add_dataset({'data': census_tracts_geojson})"
   ]
  },
  {
   "cell_type": "code",
   "execution_count": null,
   "id": "2d08931d-7e7b-4901-bf48-ea55e78bcd2f",
   "metadata": {},
   "outputs": [],
   "source": [
    "csv_url = 'https://raw.githubusercontent.com/UnfoldedInc/examples/master/notebooks/data/earthquakes.csv'\n",
    "r = requests.get(csv_url)\n",
    "earthquakes_csv = r.text\n",
    "m.add_dataset({'data': earthquakes_csv})"
   ]
  },
  {
   "cell_type": "code",
   "execution_count": null,
   "id": "0eecd7b2-2e85-413c-bca7-61a188def0e6",
   "metadata": {},
   "outputs": [],
   "source": []
  }
 ],
 "metadata": {
  "kernelspec": {
   "display_name": "Python 3 (ipykernel)",
   "language": "python",
   "name": "python3"
  },
  "language_info": {
   "codemirror_mode": {
    "name": "ipython",
    "version": 3
   },
   "file_extension": ".py",
   "mimetype": "text/x-python",
   "name": "python",
   "nbconvert_exporter": "python",
   "pygments_lexer": "ipython3",
   "version": "3.9.10"
  }
 },
 "nbformat": 4,
 "nbformat_minor": 5
}
