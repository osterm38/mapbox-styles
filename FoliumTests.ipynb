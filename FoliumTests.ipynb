{
 "cells": [
  {
   "cell_type": "code",
   "execution_count": null,
   "id": "49509779-30ef-4261-a9f2-f183d0a79cad",
   "metadata": {},
   "outputs": [],
   "source": [
    "import folium"
   ]
  },
  {
   "cell_type": "code",
   "execution_count": null,
   "id": "4dd35d41-68c9-4892-9d2b-ce81c0b4f038",
   "metadata": {},
   "outputs": [],
   "source": [
    "# example of folium map pulled from OSM, overlaid with rain fall/reflectivity?\n",
    "# dates include Hurricane Sandy's landfall in NJ, as well as same year's Derecho's in NJ\n",
    "m = folium.Map(\n",
    "    # tiles=None, # this still works, i.e., overlay below appears!\n",
    "    tiles='OpenStreetMap',\n",
    ")\n",
    "l = folium.WmsTileLayer(\n",
    "    #\n",
    "    # url xml: https://mesonet.agron.iastate.edu/cgi-bin/wms/nexrad/n0r.cgi?VERSION=1.1.1&REQUEST=GetCapabilities&SERVICE=WMS&\n",
    "    #\n",
    "    # 1. this is n0r-t, where I can specify past times\n",
    "    url=\"http://mesonet.agron.iastate.edu/cgi-bin/wms/nexrad/n0r-t.cgi\",\n",
    "    layers=['nexrad-n0r-wmst'],\n",
    "    time='2012-10-30T01:00:00Z',#Hurricane Sandy landfall in AC, NJ: 2012-10-29 8pm EDT?, +5 for UTC?\n",
    "    # time='2012-06-30T05:00:00Z',#Derecho in AC area, NJ: 2012-06-29 11:59pm EDT?, +5 for UTC?\n",
    "    #\n",
    "    # # 2. this is n0r, ie recent past data\n",
    "    # url=\"http://mesonet.agron.iastate.edu/cgi-bin/wms/nexrad/n0r.cgi\",\n",
    "    # layers=['nexrad-n0r'],# 'nexrad-n0r-900913-m50m'\n",
    "    #\n",
    "    fmt='image/png',\n",
    "    transparent=True,\n",
    "    attr=\"Weather data © 2012 IEM Nexrad\",\n",
    ")\n",
    "l.add_to(m, 'nexrad')\n",
    "m"
   ]
  },
  {
   "cell_type": "code",
   "execution_count": null,
   "id": "23b053e3-9e1d-47af-857f-d24d19b65b76",
   "metadata": {},
   "outputs": [],
   "source": [
    "m.save('folium.html')"
   ]
  },
  {
   "cell_type": "code",
   "execution_count": null,
   "id": "890d424f-f39f-43bd-a0de-fc49e88b46b2",
   "metadata": {},
   "outputs": [],
   "source": [
    "m = folium.Map(\n",
    "    # tiles='https://{s}.tile.openstreetmap.org/{z}/{x}/{y}.png',\n",
    "    # tiles='https://{s}.tile.openstreetmap.fr/hot/{z}/{x}/{y}.png',\n",
    "    # tiles='https://tileserver.memomaps.de/tilegen/{z}/{x}/{y}.png',\n",
    "    tiles='http://tiles.openseamap.org/seamark/{z}/{x}/{y}.png',\n",
    "    attr='?',\n",
    ")\n",
    "m"
   ]
  },
  {
   "cell_type": "code",
   "execution_count": null,
   "id": "0ba94d9d-5d49-4995-9a67-7d2e6847c9ab",
   "metadata": {},
   "outputs": [],
   "source": [
    "# pulled from https://wiki.openstreetmap.org/wiki/WMS\n",
    "# 'https://tigerweb.geo.census.gov/arcgis/services/TIGERweb/tigerWMS_PhysicalFeatures/MapServer/WMSServer'\n",
    "'https://tigerweb.geo.census.gov/arcgis/services/TIGERweb/tigerWMS_PhysicalFeatures/MapServer/WMSServer?VERSION=1.3.0&SERVICE=WMS&REQUEST=GetMap&LAYERS=Railroads_Labels19237,Railroads&STYLES=&CRS={proj}&BBOX={bbox}&WIDTH={width}&HEIGHT={height}&FORMAT=image/png'"
   ]
  },
  {
   "cell_type": "code",
   "execution_count": null,
   "id": "44510a15-7639-4d07-bfa2-0b0e0f38b749",
   "metadata": {},
   "outputs": [],
   "source": [
    "# example of folium map pulled from OSM, overlaid with rain fall/reflectivity?\n",
    "# dates include Hurricane Sandy's landfall in NJ, as well as same year's Derecho's in NJ\n",
    "m = folium.Map(\n",
    "    # tiles=None, # this still works, i.e., overlay below appears!\n",
    "    tiles='OpenStreetMap',\n",
    ")\n",
    "l = folium.WmsTileLayer(\n",
    "    #\n",
    "    # url xml: https://mesonet.agron.iastate.edu/cgi-bin/wms/nexrad/n0r.cgi?VERSION=1.1.1&REQUEST=GetCapabilities&SERVICE=WMS&\n",
    "    #\n",
    "    # 1. this is n0r-t, where I can specify past times\n",
    "    # url=\"http://mesonet.agron.iastate.edu/cgi-bin/wms/nexrad/n0r-t.cgi\",\n",
    "    url='https://tigerweb.geo.census.gov/arcgis/services/TIGERweb/tigerWMS_PhysicalFeatures/MapServer/WMSServer',\n",
    "    # layers=['nexrad-n0r-wmst'],\n",
    "    layers='Railroads',\n",
    "    # time='2012-10-30T01:00:00Z',#Hurricane Sandy landfall in AC, NJ: 2012-10-29 8pm EDT?, +5 for UTC?\n",
    "    # time='2012-06-30T05:00:00Z',#Derecho in AC area, NJ: 2012-06-29 11:59pm EDT?, +5 for UTC?\n",
    "    #\n",
    "    # # 2. this is n0r, ie recent past data\n",
    "    # url=\"http://mesonet.agron.iastate.edu/cgi-bin/wms/nexrad/n0r.cgi\",\n",
    "    # layers=['nexrad-n0r'],# 'nexrad-n0r-900913-m50m'\n",
    "    #\n",
    "    fmt='image/png',\n",
    "    transparent=True,\n",
    "    attr=\"Weather data © 2012 IEM Nexrad\",\n",
    ")\n",
    "l.add_to(m, 'nexrad')\n",
    "m"
   ]
  },
  {
   "cell_type": "code",
   "execution_count": null,
   "id": "87f60c01-2c44-4d97-b406-1cce56916d7a",
   "metadata": {},
   "outputs": [],
   "source": []
  }
 ],
 "metadata": {
  "kernelspec": {
   "display_name": "Python 3 (ipykernel)",
   "language": "python",
   "name": "python3"
  },
  "language_info": {
   "codemirror_mode": {
    "name": "ipython",
    "version": 3
   },
   "file_extension": ".py",
   "mimetype": "text/x-python",
   "name": "python",
   "nbconvert_exporter": "python",
   "pygments_lexer": "ipython3",
   "version": "3.9.10"
  }
 },
 "nbformat": 4,
 "nbformat_minor": 5
}
