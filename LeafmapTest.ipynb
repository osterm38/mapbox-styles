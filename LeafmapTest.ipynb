{
 "cells": [
  {
   "cell_type": "code",
   "execution_count": null,
   "id": "02c34e67-024d-4abf-9bf6-96280fce5603",
   "metadata": {},
   "outputs": [],
   "source": [
    "# requirements\n",
    "# leafmap, ipyleaflet, folium, pydeck, keplergl, owslib, osmnx, localtileserver?, \n",
    "# ipygany, open3d, numpy, pandas, pyvista, panel?, pyntcloud, laspy, pylas?"
   ]
  },
  {
   "cell_type": "code",
   "execution_count": null,
   "id": "686fcdf3-cf82-4434-9c18-c23e02abdc44",
   "metadata": {},
   "outputs": [],
   "source": [
    "# choose 1 backend\n",
    "import leafmap.leafmap as leafmap # ipyleaflet\n",
    "# import leafmap.foliumap as leafmap # folium\n",
    "# import leafmap.deck as leafmap # deck.gl\n",
    "# import leafmap.kepler as leafmap # kepler.gl\n",
    "# import leafmap.plotlymap as leafmap # plotly.js\n",
    "# import leafmap.heremap as leafmap # HEREv3?\n",
    "# NOTE: need 'owslib' installed too, to do next lookup"
   ]
  },
  {
   "cell_type": "code",
   "execution_count": null,
   "id": "c02d456f-4b34-4ba7-b7f6-80b2b05a8208",
   "metadata": {},
   "outputs": [],
   "source": [
    "leafmap.get_wms_layers(\n",
    "    url=\"http://mesonet.agron.iastate.edu/cgi-bin/wms/nexrad/n0r-t.cgi\",\n",
    ")"
   ]
  },
  {
   "cell_type": "code",
   "execution_count": null,
   "id": "e950f2c2-2182-4e90-8985-8d2e0341dbd5",
   "metadata": {},
   "outputs": [],
   "source": [
    "leafmap.get_wms_layers(\n",
    "    url=\"http://mesonet.agron.iastate.edu/cgi-bin/wms/nexrad/n0r.cgi\",\n",
    ")"
   ]
  },
  {
   "cell_type": "code",
   "execution_count": null,
   "id": "6d3ad983-d7b8-4cde-b40c-5156a74451f9",
   "metadata": {},
   "outputs": [],
   "source": [
    "m = leafmap.Map()\n",
    "# only set of names available\n",
    "m.add_basemap('TERRAIN')\n",
    "# add layer with new base map (and remember to turn off other basemap in widget)\n",
    "m.add_tile_layer(\n",
    "    # url='https://{s}.tile.openstreetmap.org/{z}/{x}/{y}.png',\n",
    "    # tiles='https://{s}.tile.openstreetmap.fr/hot/{z}/{x}/{y}.png',\n",
    "    # url='https://tileserver.memomaps.de/tilegen/{z}/{x}/{y}.png',\n",
    "    url='http://tiles.openseamap.org/seamark/{z}/{x}/{y}.png',\n",
    "    name='myOSM',\n",
    "    attribution='?',\n",
    ")\n",
    "m.add_wms_layer(\n",
    "    #\n",
    "    # url xml: https://mesonet.agron.iastate.edu/cgi-bin/wms/nexrad/n0r.cgi?VERSION=1.1.1&REQUEST=GetCapabilities&SERVICE=WMS&\n",
    "    #\n",
    "    # 1. this is n0r-t, where I can specify past times\n",
    "    name='myWmsLayer',\n",
    "    # url=\"http://mesonet.agron.iastate.edu/cgi-bin/wms/nexrad/n0r-t.cgi\",\n",
    "    # layers='nexrad-n0r-wmst',\n",
    "    # # time='2012-10-30T01:00:00Z',#Hurricane Sandy landfall in AC, NJ: 2012-10-29 8pm EDT?, +5 for UTC?\n",
    "    # time='2012-06-30T05:00:00Z',#Derecho in AC area, NJ: 2012-06-29 11:59pm EDT?, +5 for UTC?\n",
    "    #\n",
    "    # 2. this is n0r, ie recent past data\n",
    "    url=\"http://mesonet.agron.iastate.edu/cgi-bin/wms/nexrad/n0r.cgi\",\n",
    "    layers='nexrad-n0r',# 'nexrad-n0r-900913-m50m'\n",
    "    #\n",
    "    format='image/png',\n",
    "    transparent=True,\n",
    "    shown=True,\n",
    "    attribution=\"Weather data © 2012 IEM Nexrad\",\n",
    ")\n",
    "m"
   ]
  },
  {
   "cell_type": "code",
   "execution_count": null,
   "id": "a2959e91-3072-4d79-8391-d9f44d54aef5",
   "metadata": {},
   "outputs": [],
   "source": [
    "m.to_html('leafmap.html')"
   ]
  },
  {
   "cell_type": "code",
   "execution_count": null,
   "id": "fdbcdc5b-ac35-4389-9887-b99d6d506ca1",
   "metadata": {},
   "outputs": [],
   "source": [
    "# works (highlights individual buildings!), without VPNing in though.\n",
    "m = leafmap.Map(toolbar_control=False, layers_control=True)\n",
    "place = \"Bunker Hill, Los Angeles, California\"\n",
    "tags = {\"building\": True}\n",
    "m.add_osm_from_place(place, tags, layer_name=\"Los Angeles, CA\")\n",
    "m"
   ]
  },
  {
   "cell_type": "code",
   "execution_count": null,
   "id": "7205fae0-6358-4f10-81ca-8e4bd6c03f17",
   "metadata": {},
   "outputs": [],
   "source": [
    "# url='https://tigerweb.geo.census.gov/arcgis/services/TIGERweb/tigerWMS_Current/MapServer/WMSServer'\n",
    "# url='https://img.nj.gov/imagerywms/Natural2015'#?VERSION=1.1.1&REQUEST=GetCapabilities&SERVICE=WMS&'\n",
    "# url='https://wms.zh.ch/OrthoZHWMS'\n",
    "url='http://osm.franken.de:8080/geoserver/gwc/service/wms'\n",
    "layers = leafmap.get_wms_layers(url)\n",
    "layers"
   ]
  },
  {
   "cell_type": "code",
   "execution_count": null,
   "id": "0eab777e-8349-4148-918a-3ffdb03a76ce",
   "metadata": {},
   "outputs": [],
   "source": [
    "layer = layers[10]\n",
    "assert layer in layers\n",
    "layer"
   ]
  },
  {
   "cell_type": "code",
   "execution_count": null,
   "id": "f1591e48-f54d-4212-bfed-b01923f73d11",
   "metadata": {},
   "outputs": [],
   "source": [
    "m = leafmap.Map()\n",
    "# only set of names available\n",
    "# m.add_basemap('TERRAIN')\n",
    "# add layer with new base map (and remember to turn off other basemap in widget)\n",
    "# m.add_tile_layer(\n",
    "#     # url='https://{s}.tile.openstreetmap.org/{z}/{x}/{y}.png',\n",
    "#     # tiles='https://{s}.tile.openstreetmap.fr/hot/{z}/{x}/{y}.png',\n",
    "#     url='https://tileserver.memomaps.de/tilegen/{z}/{x}/{y}.png',\n",
    "#     name='myOSM',\n",
    "#     attribution='?',\n",
    "# )\n",
    "m.add_wms_layer(\n",
    "    #\n",
    "    # url xml: https://mesonet.agron.iastate.edu/cgi-bin/wms/nexrad/n0r.cgi?VERSION=1.1.1&REQUEST=GetCapabilities&SERVICE=WMS&\n",
    "    #\n",
    "    # 1. this is n0r-t, where I can specify past times\n",
    "    name='myWmsLayer',\n",
    "    # url=\"http://mesonet.agron.iastate.edu/cgi-bin/wms/nexrad/n0r-t.cgi\",\n",
    "    # layers='nexrad-n0r-wmst',\n",
    "    # # time='2012-10-30T01:00:00Z',#Hurricane Sandy landfall in AC, NJ: 2012-10-29 8pm EDT?, +5 for UTC?\n",
    "    # time='2012-06-30T05:00:00Z',#Derecho in AC area, NJ: 2012-06-29 11:59pm EDT?, +5 for UTC?\n",
    "    #\n",
    "    # 2. this is n0r, ie recent past data\n",
    "    url=url,\n",
    "    layers=layer,#'Census_Tracts7651',#'nexrad-n0r',# 'nexrad-n0r-900913-m50m'\n",
    "    #\n",
    "    format='image/png',\n",
    "    transparent=True,\n",
    "    shown=True,\n",
    "    attribution='blah', #\"Weather data © 2012 IEM Nexrad\",\n",
    ")\n",
    "m"
   ]
  },
  {
   "cell_type": "code",
   "execution_count": null,
   "id": "ffed74e4-df82-4aac-8c7d-b70885161c87",
   "metadata": {},
   "outputs": [],
   "source": []
  }
 ],
 "metadata": {
  "kernelspec": {
   "display_name": "Python 3 (ipykernel)",
   "language": "python",
   "name": "python3"
  },
  "language_info": {
   "codemirror_mode": {
    "name": "ipython",
    "version": 3
   },
   "file_extension": ".py",
   "mimetype": "text/x-python",
   "name": "python",
   "nbconvert_exporter": "python",
   "pygments_lexer": "ipython3",
   "version": "3.9.10"
  }
 },
 "nbformat": 4,
 "nbformat_minor": 5
}
