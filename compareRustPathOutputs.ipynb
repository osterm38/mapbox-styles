{
 "cells": [
  {
   "cell_type": "code",
   "execution_count": null,
   "id": "0a3b48b2-d28d-4644-8230-4ee126135b93",
   "metadata": {},
   "outputs": [],
   "source": [
    "import json\n",
    "import pathlib\n",
    "import pandas as pd\n",
    "import hvplot.pandas"
   ]
  },
  {
   "cell_type": "code",
   "execution_count": null,
   "id": "adc22010-1527-4527-ba35-a020d8b74cdf",
   "metadata": {},
   "outputs": [],
   "source": [
    "HERE = pathlib.Path.cwd()\n",
    "assert HERE.is_dir()"
   ]
  },
  {
   "cell_type": "code",
   "execution_count": null,
   "id": "fed9a0eb-639b-4671-845b-fdf9f6697f62",
   "metadata": {},
   "outputs": [],
   "source": [
    "f1 = HERE / 'pacrat-backend' / 'algo' / 'examples' / 'small' / 'paths1.json'\n",
    "f2 = HERE / 'pacrat-backend' / 'algo' / 'examples' / 'small' / 'paths2.json'\n",
    "assert f1.is_file()\n",
    "assert f2.is_file()"
   ]
  },
  {
   "cell_type": "code",
   "execution_count": null,
   "id": "25809187-3909-4f52-a9c0-3bfc85c45a43",
   "metadata": {},
   "outputs": [],
   "source": [
    "with open(f1, mode='r') as fh:\n",
    "    j1 = json.load(fh)\n",
    "with open(f2, mode='r') as fh:\n",
    "    j2 = json.load(fh)"
   ]
  },
  {
   "cell_type": "code",
   "execution_count": null,
   "id": "8bdd6f1b-5179-460d-96e5-1173b46c508d",
   "metadata": {},
   "outputs": [],
   "source": [
    "# for row in j1:\n",
    "#     cdp = row['critical_detection_point']\n",
    "#     if cdp['type'] != 'None':\n",
    "#         print(row)\n",
    "#         break"
   ]
  },
  {
   "cell_type": "code",
   "execution_count": null,
   "id": "56cb1c8e-a4b4-499b-b734-d2ea62ce3fd0",
   "metadata": {},
   "outputs": [],
   "source": [
    "def json_to_df(jsn):\n",
    "    # assume jsn is just an array with entries like:\n",
    "    \"\"\"\n",
    "    {'id': 'e0ab00c2-1359-4357-9537-5063d8c3989c',\n",
    "     'scenario_id': '85e0961a-8d7d-4f82-8879-8fa786290b62',\n",
    "     'critical_detection_point': {'type': 'None'},\n",
    "     'interdiction_probability': 0.0,\n",
    "     'steps': [{'type': 'Area', 'id': '1bd81034-cf6e-45c5-b0c8-4a8904bbc803'},\n",
    "      {'type': 'Area', 'id': '9f10de8f-bd26-4204-b509-d1fd7414205d'},\n",
    "      {'type': 'Area', 'id': 'd93641aa-8a40-4333-8a0c-976be0397e66'},\n",
    "      {'type': 'Action', 'id': '122b8388-983f-4786-a02e-a8a8110c09cf'},\n",
    "      {'type': 'Area', 'id': '9f10de8f-bd26-4204-b509-d1fd7414205d'},\n",
    "      {'type': 'Safeguard', 'id': '243ca98c-f920-4bb7-8e55-faa81c68bee3'},\n",
    "      {'type': 'Safeguard', 'id': '4c2b3ef1-db05-4533-9aa9-62599c8284dc'},\n",
    "      {'type': 'Safeguard', 'id': 'd0a4fada-4c63-4657-a304-4a3a7546ea58'},\n",
    "      {'type': 'Area', 'id': 'dde9a627-6183-47c6-a3b0-17046d95182b'},\n",
    "      {'type': 'Action', 'id': '8dea7ae9-455c-42b6-9b24-661341860010'},\n",
    "      {'type': 'Area', 'id': '9f10de8f-bd26-4204-b509-d1fd7414205d'},\n",
    "      {'type': 'Area', 'id': 'd93641aa-8a40-4333-8a0c-976be0397e66'},\n",
    "      {'type': 'Area', 'id': 'c22834c3-b2d9-4b0d-acca-b4387754e876'}]}\n",
    "    \"\"\"\n",
    "    lst = []\n",
    "    for row in jsn:\n",
    "        n_steps = len(row['steps'])\n",
    "        n_countermeasures = len([r for r in row['steps'] if r['type'] == 'Safeguard'])\n",
    "        n_areas = len([r for r in row['steps'] if r['type'] == 'Area'])\n",
    "        n_actions = len([r for r in row['steps'] if r['type'] == 'Action'])\n",
    "        cdp_type = row['critical_detection_point']['type']\n",
    "        ip = row['interdiction_probability']\n",
    "        # cdp_pos = np.nan if cdp_type is not None else \n",
    "        assert (n_countermeasures + n_areas + n_actions) == n_steps\n",
    "        lst.append([ip, n_steps, n_countermeasures, n_areas, n_actions, cdp_type])\n",
    "    df = pd.DataFrame(lst, columns=['ip', 'n_steps', 'n_countermeasures', 'n_areas', 'n_actions', 'cdp_type'])\n",
    "    return df.sort_values(df.columns.tolist()).reset_index(drop=True)"
   ]
  },
  {
   "cell_type": "code",
   "execution_count": null,
   "id": "9b87bd04-a286-4407-808a-738efd8ea473",
   "metadata": {},
   "outputs": [],
   "source": [
    "df1 = json_to_df(j1)\n",
    "df2 = json_to_df(j2)\n",
    "df1.shape, df2.shape"
   ]
  },
  {
   "cell_type": "code",
   "execution_count": null,
   "id": "569f71a5-01e8-4906-aca7-1a2eca9b892d",
   "metadata": {},
   "outputs": [],
   "source": [
    "df1.tail()"
   ]
  },
  {
   "cell_type": "code",
   "execution_count": null,
   "id": "5a60a80c-3631-4a1b-8f02-ccfd609ac225",
   "metadata": {},
   "outputs": [],
   "source": [
    "df2.tail()"
   ]
  },
  {
   "cell_type": "code",
   "execution_count": null,
   "id": "10c90432-02d3-4866-97fd-29514603b4fd",
   "metadata": {},
   "outputs": [],
   "source": [
    "# 0 means not different, 1 means different, sum yields number of differences (>0 if not all rows identical; we want == 0!)\n",
    "diff = (df1 != df2).astype(int)\n",
    "diff"
   ]
  },
  {
   "cell_type": "code",
   "execution_count": null,
   "id": "f79c6071-0a62-448c-a066-31565c1887c8",
   "metadata": {},
   "outputs": [],
   "source": [
    "diff_rows = diff[ diff.sum(axis=1) > 0 ].index\n",
    "print('num diff rows:', len(diff_rows))"
   ]
  },
  {
   "cell_type": "code",
   "execution_count": null,
   "id": "d7e8c57b-cf05-4c38-ab3c-fba4fb4e562a",
   "metadata": {},
   "outputs": [],
   "source": [
    "df1.loc[diff_rows]"
   ]
  },
  {
   "cell_type": "code",
   "execution_count": null,
   "id": "867e0454-79a7-42bf-90c7-9eaa427c3543",
   "metadata": {},
   "outputs": [],
   "source": [
    "df2.loc[diff_rows]"
   ]
  },
  {
   "cell_type": "code",
   "execution_count": null,
   "id": "f0c75ccf-5275-4e3b-9408-6474924ecbd4",
   "metadata": {},
   "outputs": [],
   "source": [
    "df1.ip.max(), df2.ip.max()"
   ]
  },
  {
   "cell_type": "code",
   "execution_count": null,
   "id": "a27d00e5-2eb1-4815-a11c-5c1ef2c2725f",
   "metadata": {},
   "outputs": [],
   "source": [
    "df1[ df1.ip == df1.ip.max() ].shape[0], df2[ df2.ip == df2.ip.max() ].shape[0]"
   ]
  },
  {
   "cell_type": "code",
   "execution_count": null,
   "id": "0f5ae40c-e792-46c2-9d80-98512d1c5583",
   "metadata": {},
   "outputs": [],
   "source": []
  }
 ],
 "metadata": {
  "kernelspec": {
   "display_name": "Python 3 (ipykernel)",
   "language": "python",
   "name": "python3"
  },
  "language_info": {
   "codemirror_mode": {
    "name": "ipython",
    "version": 3
   },
   "file_extension": ".py",
   "mimetype": "text/x-python",
   "name": "python",
   "nbconvert_exporter": "python",
   "pygments_lexer": "ipython3",
   "version": "3.9.10"
  }
 },
 "nbformat": 4,
 "nbformat_minor": 5
}
